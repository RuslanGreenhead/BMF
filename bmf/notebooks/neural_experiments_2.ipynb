{
 "cells": [
  {
   "cell_type": "code",
   "execution_count": 1,
   "id": "8ae01220-dfe9-416b-99e7-99fbc3b80be5",
   "metadata": {},
   "outputs": [],
   "source": [
    "import sys\n",
    "\n",
    "sys.path.append(\"../\")"
   ]
  },
  {
   "cell_type": "code",
   "execution_count": 2,
   "id": "7a472729-f830-495c-901f-45075db1d7d8",
   "metadata": {},
   "outputs": [],
   "source": [
    "import torch\n",
    "import torch.nn as nn\n",
    "import torch.nn.functional as F\n",
    "from torch.utils.data import DataLoader\n",
    "\n",
    "import numpy as np\n",
    "from tqdm.notebook import tqdm\n",
    "import matplotlib.pyplot as plt\n",
    "from IPython.display import clear_output\n",
    "%matplotlib inline"
   ]
  },
  {
   "cell_type": "code",
   "execution_count": 3,
   "id": "6c2a0154-f872-48cb-b49b-14f0240d1263",
   "metadata": {},
   "outputs": [],
   "source": [
    "import neural.binary_modules as bm\n",
    "import neural.models as models\n",
    "import utilities as utils"
   ]
  },
  {
   "cell_type": "markdown",
   "id": "65bfaf8c-5894-456c-9481-7f9f2fd75634",
   "metadata": {},
   "source": [
    "#### Trainloop"
   ]
  },
  {
   "cell_type": "code",
   "execution_count": 4,
   "id": "8ba61cd4-727f-4b4d-8ad8-3147546ff3ca",
   "metadata": {},
   "outputs": [],
   "source": [
    "def plot_values(values, subplot=None, **kwargs):\n",
    "    # clear_output(True)\n",
    "    if subplot:\n",
    "        plt.subplot(*subplot)\n",
    "  \n",
    "    plt.plot(np.arange(len(values)) + 1, values, **kwargs)\n",
    "    plt.xlabel(\"n_epoch\")\n",
    "    plt.legend()\n",
    "    # plt.show()\n",
    "\n",
    "\n",
    "def matrix_accuracy(A: np.array, B: np.array):\n",
    "    assert A.shape == B.shape\n",
    "    return 1 - np.sum(np.abs(A - B)) / A.size\n",
    "\n",
    "\n",
    "def density(A: np.array):\n",
    "    return A.sum() / np.size(A)"
   ]
  },
  {
   "cell_type": "code",
   "execution_count": 5,
   "id": "c584957e-d235-4788-ab08-bbc1d64d30d3",
   "metadata": {},
   "outputs": [],
   "source": [
    "def train_over_matrix(matrix, model, criterion, optimizer,\n",
    "                      batch_size=32, n_epochs=10, draw_plots=True):\n",
    "    \n",
    "    train_loader = DataLoader(utils.matrix_to_ids(matrix), batch_size=batch_size)\n",
    "    losses_per_epoch = list()\n",
    "    fact_acc = list()\n",
    "    intermediate_user_factors = list()\n",
    "    intermediate_item_factors = list()\n",
    "    user_emb_grads = list()       # user_embedding.weight\n",
    "    item_emb_grads = list()       # item_embedding.weight\n",
    "    approx_densities = list()\n",
    "\n",
    "    for epoch in tqdm(range(n_epochs)):\n",
    "        losses_per_batch = list()\n",
    "\n",
    "        for i, batch in enumerate(train_loader):\n",
    "            model_output = model(batch)\n",
    "            target = batch[:, 2].float()\n",
    "\n",
    "            optimizer.zero_grad()\n",
    "            train_loss = criterion(model_output, target)\n",
    "            train_loss.backward()\n",
    "            if (epoch % 10 == 0) and (i == 0):\n",
    "                user_emb_grads.append(torch.norm(list(model.parameters())[0].grad))\n",
    "                item_emb_grads.append(torch.norm(list(model.parameters())[1].grad))\n",
    "            optimizer.step()\n",
    "            losses_per_batch.append(train_loss.detach().numpy())\n",
    "            \n",
    "        losses_per_epoch.append(np.array(losses_per_batch).mean())\n",
    "\n",
    "        if draw_plots:\n",
    "            clear_output(True)\n",
    "            plt.figure(figsize=(12, 11))\n",
    "            plot_values(losses_per_epoch, subplot=(3, 2, 1), label=str(criterion), color=\"green\")\n",
    "            plot_values(fact_acc, subplot=(3, 2, 2), label=\"Factorization accuracy\", color=\"maroon\")\n",
    "            plot_values(user_emb_grads, subplot=(3, 2, 3), label=\"User gradient magnitude\", color=\"orange\")\n",
    "            plot_values(item_emb_grads, subplot=(3, 2, 4), label=\"Item gradient magnitude\", color=\"orange\")\n",
    "            plot_values(approx_densities, subplot=(3, 2, 5), label=\"Approx. density\", color=\"indigo\")\n",
    "            plt.show()\n",
    "        \n",
    "        if epoch % 10 == 0:    # was 10\n",
    "            # Calculating factorization error and factorization density\n",
    "            temp_user_factor, temp_item_factor = model.get_factors()\n",
    "            approx_matrix = utils.bin_matmul_1(temp_user_factor, temp_item_factor.T)\n",
    "            fact_acc.append(matrix_accuracy(approx_matrix, matrix.numpy()))\n",
    "            approx_densities.append(density(approx_matrix))\n",
    "            \n",
    "        if epoch % 10 == 0:   # was 20\n",
    "            intermediate_user_factors.append(temp_user_factor)\n",
    "            intermediate_item_factors.append(temp_item_factor)\n",
    "            \n",
    "\n",
    "    user_bin_factor, item_bin_factor = model.get_factors()\n",
    "\n",
    "    output = {\n",
    "        \"user_bin_factor\": user_bin_factor,\n",
    "        \"item_bin_factor\": item_bin_factor,\n",
    "        \"losses_per_epoch\": losses_per_epoch,\n",
    "        \"fact_acc\": fact_acc,\n",
    "        \"iuf\": intermediate_user_factors,\n",
    "        \"iif\": intermediate_item_factors,\n",
    "        \"user_emb_grads\": user_emb_grads,\n",
    "        \"item_emb_grads\": item_emb_grads\n",
    "    }\n",
    "\n",
    "    return output"
   ]
  },
  {
   "cell_type": "markdown",
   "id": "916c3328-b89d-470c-ad7a-2cec069acb8b",
   "metadata": {},
   "source": [
    "#### Model"
   ]
  },
  {
   "cell_type": "code",
   "execution_count": 6,
   "id": "f8f811da-d99b-4f49-9c77-7fca44640d36",
   "metadata": {},
   "outputs": [],
   "source": [
    "from typing import Tuple"
   ]
  },
  {
   "cell_type": "code",
   "execution_count": 6,
   "id": "23902799-9a03-4688-8884-47a38ffc2c83",
   "metadata": {},
   "outputs": [
    {
     "ename": "NameError",
     "evalue": "name 'Tuple' is not defined",
     "output_type": "error",
     "traceback": [
      "\u001b[1;31m---------------------------------------------------------------------------\u001b[0m",
      "\u001b[1;31mNameError\u001b[0m                                 Traceback (most recent call last)",
      "Cell \u001b[1;32mIn[6], line 26\u001b[0m\n\u001b[0;32m     22\u001b[0m         nn\u001b[38;5;241m.\u001b[39minit\u001b[38;5;241m.\u001b[39mxavier_uniform_(\u001b[38;5;28mself\u001b[39m\u001b[38;5;241m.\u001b[39muser_embedding\u001b[38;5;241m.\u001b[39mweight)     \u001b[38;5;66;03m# default distribution - normal\u001b[39;00m\n\u001b[0;32m     23\u001b[0m         nn\u001b[38;5;241m.\u001b[39minit\u001b[38;5;241m.\u001b[39mxavier_uniform_(\u001b[38;5;28mself\u001b[39m\u001b[38;5;241m.\u001b[39mitem_embedding\u001b[38;5;241m.\u001b[39mweight)\n\u001b[1;32m---> 26\u001b[0m \u001b[38;5;28;01mclass\u001b[39;00m \u001b[38;5;21;01mMultiLayerPerceptron\u001b[39;00m(nn\u001b[38;5;241m.\u001b[39mModule):\n\u001b[0;32m     27\u001b[0m     \u001b[38;5;28;01mdef\u001b[39;00m \u001b[38;5;21m__init__\u001b[39m(\u001b[38;5;28mself\u001b[39m, n_users: \u001b[38;5;28mint\u001b[39m, n_items: \u001b[38;5;28mint\u001b[39m, embedding_dim: \u001b[38;5;28mint\u001b[39m,\n\u001b[0;32m     28\u001b[0m                  mlp_layers: Tuple[\u001b[38;5;28mint\u001b[39m, \u001b[38;5;241m.\u001b[39m\u001b[38;5;241m.\u001b[39m\u001b[38;5;241m.\u001b[39m]) \u001b[38;5;241m-\u001b[39m\u001b[38;5;241m>\u001b[39m \u001b[38;5;28;01mNone\u001b[39;00m:\n\u001b[0;32m     29\u001b[0m         \u001b[38;5;28msuper\u001b[39m()\u001b[38;5;241m.\u001b[39m\u001b[38;5;21m__init__\u001b[39m()\n",
      "Cell \u001b[1;32mIn[6], line 28\u001b[0m, in \u001b[0;36mMultiLayerPerceptron\u001b[1;34m()\u001b[0m\n\u001b[0;32m     26\u001b[0m \u001b[38;5;28;01mclass\u001b[39;00m \u001b[38;5;21;01mMultiLayerPerceptron\u001b[39;00m(nn\u001b[38;5;241m.\u001b[39mModule):\n\u001b[0;32m     27\u001b[0m     \u001b[38;5;28;01mdef\u001b[39;00m \u001b[38;5;21m__init__\u001b[39m(\u001b[38;5;28mself\u001b[39m, n_users: \u001b[38;5;28mint\u001b[39m, n_items: \u001b[38;5;28mint\u001b[39m, embedding_dim: \u001b[38;5;28mint\u001b[39m,\n\u001b[1;32m---> 28\u001b[0m                  mlp_layers: \u001b[43mTuple\u001b[49m[\u001b[38;5;28mint\u001b[39m, \u001b[38;5;241m.\u001b[39m\u001b[38;5;241m.\u001b[39m\u001b[38;5;241m.\u001b[39m]) \u001b[38;5;241m-\u001b[39m\u001b[38;5;241m>\u001b[39m \u001b[38;5;28;01mNone\u001b[39;00m:\n\u001b[0;32m     29\u001b[0m         \u001b[38;5;28msuper\u001b[39m()\u001b[38;5;241m.\u001b[39m\u001b[38;5;21m__init__\u001b[39m()\n\u001b[0;32m     30\u001b[0m         \u001b[38;5;28mself\u001b[39m\u001b[38;5;241m.\u001b[39muser_embedding \u001b[38;5;241m=\u001b[39m nn\u001b[38;5;241m.\u001b[39mEmbedding(n_users, embedding_dim)\n",
      "\u001b[1;31mNameError\u001b[0m: name 'Tuple' is not defined"
     ]
    }
   ],
   "source": [
    "class GeneralizedMatrixFactorization(nn.Module):\n",
    "    def __init__(self, n_users: int, n_items: int, embedding_dim: int) -> None:\n",
    "        super().__init__()\n",
    "        self.user_embedding = nn.Embedding(n_users, embedding_dim)\n",
    "        self.item_embedding = nn.Embedding(n_items, embedding_dim)\n",
    "        # self.user_embedding = bm.BinarizedEmbedding(n_users, embedding_dim)\n",
    "        # self.item_embedding = bm.BinarizedEmbedding(n_items, embedding_dim)\n",
    "\n",
    "        self._init_weight()\n",
    "\n",
    "    def forward(self, x: torch.Tensor) -> torch.Tensor:\n",
    "        # x -> (batch_size, 3)\n",
    "        users = x[:, 0]    # -> (b_size)\n",
    "        items = x[:, 1]    # -> (b_size)\n",
    "\n",
    "        user_vectors = (self.user_embedding(users) + 1) / 2    # -> (b_size, emb_dim)\n",
    "        item_vectors = (self.item_embedding(items) + 1) / 2    # -> (b_size, emb_dim)\n",
    "\n",
    "        return torch.mul(user_vectors, item_vectors)    # -> (b_size, emb_dim)\n",
    "\n",
    "    def _init_weight(self):\n",
    "        nn.init.xavier_uniform_(self.user_embedding.weight)     # default distribution - normal\n",
    "        nn.init.xavier_uniform_(self.item_embedding.weight)\n",
    "\n",
    "\n",
    "class MultiLayerPerceptron(nn.Module):\n",
    "    def __init__(self, n_users: int, n_items: int, embedding_dim: int,\n",
    "                 mlp_layers: Tuple[int, ...]) -> None:\n",
    "        super().__init__()\n",
    "        self.user_embedding = nn.Embedding(n_users, embedding_dim)\n",
    "        self.item_embedding = nn.Embedding(n_items, embedding_dim)\n",
    "\n",
    "        self.MLP = self._make_layers(layers=mlp_layers, embedding_dim=embedding_dim)\n",
    "        self._init_weight()\n",
    "\n",
    "    def forward(self, x: torch.Tensor) -> torch.Tensor:\n",
    "        # x -> (b_size, 3)\n",
    "        users = x[:, 0]    # -> (b_size)\n",
    "        items = x[:, 1]    # -> (b_size)\n",
    "\n",
    "        user_vectors = self.user_embedding(users)    # -> (b_size, emb_dim)\n",
    "        item_vectors = self.item_embedding(items)    # -> (b_size, emb_dim)\n",
    "\n",
    "        concat_vectors = torch.concat((user_vectors, item_vectors), dim=1)    # -> (b_size, 2 * emb_dim)\n",
    "\n",
    "        return self.MLP(concat_vectors)    # -> (b_size, mlp_layers[-1])\n",
    "\n",
    "    def _make_layers(self, layers: Tuple[int, ...], embedding_dim: int) -> nn.Module:\n",
    "        if not layers:\n",
    "            raise ValueError(\"should have at least one mlp layer.\")\n",
    "\n",
    "        mlp_layers = nn.Sequential()\n",
    "        past_dims = embedding_dim * 2\n",
    "\n",
    "        for layer in layers:\n",
    "            mlp_layers.append(nn.Linear(past_dims, layer))\n",
    "            mlp_layers.append(nn.ReLU())\n",
    "            past_dims = layer\n",
    "\n",
    "        return mlp_layers\n",
    "\n",
    "    def _init_weight(self):\n",
    "        pass\n",
    "\n",
    "\n",
    "class NeuralMatrixFactorization(nn.Module):\n",
    "    def __init__(self, n_users: int, n_items: int, GMF_embedding_dim: int, MLP_embedding_dim: int,\n",
    "                 mlp_layers: Tuple[int, ...]) -> None:\n",
    "        super().__init__()\n",
    "        self.GMF = GeneralizedMatrixFactorization(\n",
    "            n_users=n_users, n_items=n_items, embedding_dim=GMF_embedding_dim\n",
    "        )\n",
    "        self.MLP = MultiLayerPerceptron(\n",
    "            n_users=n_users,\n",
    "            n_items=n_items,\n",
    "            embedding_dim=MLP_embedding_dim,\n",
    "            mlp_layers=mlp_layers,\n",
    "        )\n",
    "\n",
    "        # self.predict_layer = nn.Linear(GMF_embedding_dim + mlp_layers[-1], 1)\n",
    "        self.predict_layer = nn.Linear(GMF_embedding_dim, 1)\n",
    "        self.sigmoid = nn.Sigmoid()\n",
    "\n",
    "    def forward(self, x: torch.Tensor) -> torch.Tensor:\n",
    "        # x -> (b_size, 3)\n",
    "        gmf_vectors = self.GMF(x)    # -> (b_size, emb_dim)\n",
    "        # mlp_vectors = self.MLP(x)    # -> (b_size, mlp_layers[-1])\n",
    "\n",
    "        # concat_vectors = torch.concat((gmf_vectors, mlp_vectors), dim=1)    # -> (b_size, emb_dim + mlp_layers[-1])\n",
    "        output = self.predict_layer(gmf_vectors)                         # -> (b_size, 1)\n",
    "\n",
    "        return self.sigmoid(output).squeeze()    # -> (b_size)"
   ]
  },
  {
   "cell_type": "code",
   "execution_count": 6,
   "id": "0c173882-6399-49fe-8602-35be5ea4ae4e",
   "metadata": {},
   "outputs": [],
   "source": [
    "# class AdvancedInputBinarizer_(bm.BinarizerBase):\n",
    "#     def __init__(self, derivative_funct=torch.tanh, t: int = 5):\n",
    "#         super(AdvancedInputBinarizer_, self).__init__()\n",
    "#         self.derivative_funct = derivative_funct\n",
    "#         self.t = t\n",
    "\n",
    "#     def forward(self, x: torch.tensor) -> torch.Tensor:\n",
    "#         x = self.derivative_funct(x * self.t)\n",
    "#         with torch.no_grad():\n",
    "#             x = torch.sign(x)\n",
    "#         return x\n",
    "\n",
    "\n",
    "# class FFF(torch.autograd.Function):\n",
    "#     @staticmethod\n",
    "#     def forward(ctx, input):\n",
    "#         input = torch.tanh(5 * input)\n",
    "#         ctx.save_for_backward(input)\n",
    "        \n",
    "#         return torch.sign(input)\n",
    "    \n",
    "#     @staticmethod\n",
    "#     def backward(ctx, grad_output):\n",
    "#         return grad_output.clamp(-1,1)"
   ]
  },
  {
   "cell_type": "code",
   "execution_count": 6,
   "id": "44522333-f27a-4e18-a2ee-0995a9708861",
   "metadata": {},
   "outputs": [],
   "source": [
    "bin_basic = bm.BasicInputBinarizer()\n",
    "bin_stoch = bm.StochasticInputBinarizer()\n",
    "bin_tanh = bm.TanhInputBinarizer(1, 3)"
   ]
  },
  {
   "cell_type": "code",
   "execution_count": 21,
   "id": "cd703d53-36c0-495e-a98d-4a2b628191d2",
   "metadata": {},
   "outputs": [],
   "source": [
    "class BMFLarge_dev(nn.Module):\n",
    "    def __init__(self, n_users: int, n_items: int, embedding_dim: int,\n",
    "                 hidden_dim: int, output_act: str, init_weights: bool, **kwargs) -> None:\n",
    "        super().__init__()\n",
    "        self.user_embedding = nn.Embedding(n_users, embedding_dim)\n",
    "        self.item_embedding = nn.Embedding(n_items, embedding_dim)\n",
    "\n",
    "        self.user_linear_1 = nn.Linear(embedding_dim, hidden_dim)\n",
    "        self.user_linear_2 = nn.Linear(hidden_dim, embedding_dim)\n",
    "        self.item_linear_1 = nn.Linear(embedding_dim, hidden_dim)\n",
    "        self.item_linear_2 = nn.Linear(hidden_dim, embedding_dim)\n",
    "\n",
    "        self.sigm = nn.Sigmoid()\n",
    "        self.relu = nn.ReLU()\n",
    "        self.binarizer = bm.TanhInputBinarizer(1, 1)\n",
    "\n",
    "        if output_act == \"shifted_sigmoid\":\n",
    "            self.output_act = lambda prod: bm.shifted_sigmoid(torch.sum(prod, axis=1)) \n",
    "        elif output_act == \"shifted_tanh\":\n",
    "            self.output_act = lambda prod: bm.shifted_scaled_tanh(torch.sum(prod, axis=1), coef=kwargs[\"tanh_coef\"])\n",
    "        elif output_act == \"maxpool\":\n",
    "            self.pooling = nn.MaxPool1d(kernel_size=embedding_dim)\n",
    "            self.output_act = lambda prod: self.pooling(prod).squeeze(1)\n",
    "        elif output_act == \"dense_layer\":\n",
    "            self.dense_1 = nn.Linear(hidden_dim, 16)\n",
    "            self.dense_2 = nn.Linear(16, 1)\n",
    "            self.output_act = lambda prod: self.sigm(self.dense_2(self.sigm(self.dense_1(prod)))).squeeze(1)\n",
    "        \n",
    "        if init_weights: self._init_weight()\n",
    "\n",
    "    def forward(self, x: torch.Tensor) -> torch.Tensor:\n",
    "        # x -> (b_size, 3)\n",
    "        users = x[:, 0]    # -> (b_size)\n",
    "        items = x[:, 1]    # -> (b_size)\n",
    "\n",
    "        user_vectors = self.relu((self.user_linear_1(self.sigm(self.user_embedding(users)))))     # -> (b_size, emb_dim)\n",
    "        user_vectors = self.sigm(self.binarizer(self.user_linear_2(user_vectors)))       # -> (b_size, emb_dim)\n",
    "        # user_vectors = torch.tanh(self.user_linear_2(user_vectors))\n",
    "        item_vectors = self.relu((self.item_linear_1(self.sigm(self.item_embedding(items)))))       # -> (b_size, emb_dim)\n",
    "        item_vectors = self.sigm(self.binarizer(self.item_linear_2(item_vectors)))        # -> (b_size, emb_dim)\n",
    "        # item_vectors = torch.tanh(self.item_linear_2(item_vectors))\n",
    "        \n",
    "        prod = torch.mul(user_vectors, item_vectors)                                   # -> (b_size)\n",
    "        res = self.output_act(prod)                                                    # -> (b_size)\n",
    "            \n",
    "        return res\n",
    "    \n",
    "    def get_factors(self, raw=False):\n",
    "        '''\n",
    "        Extracts current (binary / raw) factor-matrices for users and for items\n",
    "        '''\n",
    "        with torch.no_grad():\n",
    "            user_raw = self.relu(self.user_linear_1(self.sigm((self.user_embedding.weight))))\n",
    "            user_raw = self.user_linear_2(user_raw)\n",
    "            item_raw = self.relu(self.item_linear_1(self.sigm((self.item_embedding.weight))))\n",
    "            item_raw = self.item_linear_2(item_raw)\n",
    "\n",
    "            if raw:\n",
    "                return user_raw.detach().clone().numpy(), item_raw.detach().clone().numpy()\n",
    "            \n",
    "            user_bin = (np.sign(user_raw.detach().clone().numpy()) + 1) / 2\n",
    "            item_bin = (np.sign(item_raw.detach().clone().numpy()) + 1) / 2\n",
    "\n",
    "            return user_bin, item_bin\n",
    "\n",
    "    def _init_weight(self):\n",
    "        nn.init.xavier_uniform_(self.user_linear_1.weight)     # default distribution - normal\n",
    "        nn.init.xavier_uniform_(self.user_linear_2.weight)\n",
    "        nn.init.xavier_uniform_(self.item_linear_1.weight)\n",
    "        nn.init.xavier_uniform_(self.item_linear_2.weight)"
   ]
  },
  {
   "cell_type": "markdown",
   "id": "5a356856-39e7-42ef-91a8-950d64cf56f9",
   "metadata": {},
   "source": [
    "#### Explorations"
   ]
  },
  {
   "cell_type": "code",
   "execution_count": 8,
   "id": "c5aabed5-6791-4160-a105-856cb93e4547",
   "metadata": {},
   "outputs": [
    {
     "data": {
      "text/plain": [
       "tensor([[1, 1, 1, 1, 1, 1],\n",
       "        [1, 0, 1, 0, 0, 0],\n",
       "        [1, 1, 1, 1, 1, 1],\n",
       "        [1, 0, 1, 0, 0, 0],\n",
       "        [1, 0, 1, 0, 0, 0],\n",
       "        [1, 0, 1, 0, 0, 0]], dtype=torch.int8)"
      ]
     },
     "execution_count": 8,
     "metadata": {},
     "output_type": "execute_result"
    }
   ],
   "source": [
    "matrix = utils.get_pattern_matrix((6, 6), [0, 2], [0, 2])\n",
    "matrix"
   ]
  },
  {
   "cell_type": "code",
   "execution_count": 28,
   "id": "c9a49392-5781-4a1a-8cc5-4ff0941d29a5",
   "metadata": {},
   "outputs": [
    {
     "data": {
      "text/plain": [
       "tensor([[0, 0, 1, 1, 1, 1],\n",
       "        [0, 0, 0, 0, 0, 1],\n",
       "        [1, 0, 0, 1, 0, 1],\n",
       "        [1, 0, 1, 0, 1, 1],\n",
       "        [1, 1, 0, 0, 1, 0],\n",
       "        [1, 0, 1, 0, 1, 1]], dtype=torch.int8)"
      ]
     },
     "execution_count": 28,
     "metadata": {},
     "output_type": "execute_result"
    }
   ],
   "source": [
    "utils.get_binary_tensor((n_users, n_items))"
   ]
  },
  {
   "cell_type": "code",
   "execution_count": 22,
   "id": "725c1a8f-b741-4a29-8e8c-64494900793c",
   "metadata": {},
   "outputs": [],
   "source": [
    "n_users = 6\n",
    "n_items = 6\n",
    "emb_size = 4\n",
    "matrix = utils.get_binary_tensor((n_users, n_items))\n",
    "# matrix = torch.eye(6, dtype=torch.int8)\n",
    "# matrix = utils.get_pattern_matrix((6, 6), [0, 2], [0, 2])\n",
    "\n",
    "model = BMFLarge_dev(\n",
    "    n_users=n_users,\n",
    "    n_items=n_items,\n",
    "    embedding_dim=emb_size,\n",
    "    hidden_dim=64,\n",
    "    init_weights=False,\n",
    "    output_act=\"shifted_sigmoid\",\n",
    "    tanh_coef=3\n",
    ")\n",
    "\n",
    "# criterion = nn.MSELoss()\n",
    "criterion = nn.BCELoss()\n",
    "optimizer = torch.optim.Adam(model.parameters(), lr=3e-4)"
   ]
  },
  {
   "cell_type": "code",
   "execution_count": 23,
   "id": "62e8f9d2-f1dc-440b-92e1-37e6816c0372",
   "metadata": {},
   "outputs": [
    {
     "ename": "KeyboardInterrupt",
     "evalue": "",
     "output_type": "error",
     "traceback": [
      "\u001b[1;31m---------------------------------------------------------------------------\u001b[0m",
      "\u001b[1;31mKeyboardInterrupt\u001b[0m                         Traceback (most recent call last)",
      "Cell \u001b[1;32mIn[23], line 1\u001b[0m\n\u001b[1;32m----> 1\u001b[0m output \u001b[38;5;241m=\u001b[39m \u001b[43mtrain_over_matrix\u001b[49m\u001b[43m(\u001b[49m\n\u001b[0;32m      2\u001b[0m \u001b[43m    \u001b[49m\u001b[43mmatrix\u001b[49m\u001b[38;5;241;43m=\u001b[39;49m\u001b[43mmatrix\u001b[49m\u001b[43m,\u001b[49m\n\u001b[0;32m      3\u001b[0m \u001b[43m    \u001b[49m\u001b[43mmodel\u001b[49m\u001b[38;5;241;43m=\u001b[39;49m\u001b[43mmodel\u001b[49m\u001b[43m,\u001b[49m\n\u001b[0;32m      4\u001b[0m \u001b[43m    \u001b[49m\u001b[43mcriterion\u001b[49m\u001b[38;5;241;43m=\u001b[39;49m\u001b[43mcriterion\u001b[49m\u001b[43m,\u001b[49m\n\u001b[0;32m      5\u001b[0m \u001b[43m    \u001b[49m\u001b[43moptimizer\u001b[49m\u001b[38;5;241;43m=\u001b[39;49m\u001b[43moptimizer\u001b[49m\u001b[43m,\u001b[49m\n\u001b[0;32m      6\u001b[0m \u001b[43m    \u001b[49m\u001b[43mbatch_size\u001b[49m\u001b[38;5;241;43m=\u001b[39;49m\u001b[38;5;241;43m36\u001b[39;49m\u001b[43m,\u001b[49m\u001b[43m \u001b[49m\u001b[43mn_epochs\u001b[49m\u001b[38;5;241;43m=\u001b[39;49m\u001b[38;5;241;43m140\u001b[39;49m\u001b[43m,\u001b[49m\n\u001b[0;32m      7\u001b[0m \u001b[43m    \u001b[49m\u001b[43mdraw_plots\u001b[49m\u001b[38;5;241;43m=\u001b[39;49m\u001b[38;5;28;43;01mTrue\u001b[39;49;00m\u001b[43m              \u001b[49m\n\u001b[0;32m      8\u001b[0m \u001b[43m)\u001b[49m\n",
      "Cell \u001b[1;32mIn[5], line 39\u001b[0m, in \u001b[0;36mtrain_over_matrix\u001b[1;34m(matrix, model, criterion, optimizer, batch_size, n_epochs, draw_plots)\u001b[0m\n\u001b[0;32m     37\u001b[0m     plot_values(item_emb_grads, subplot\u001b[38;5;241m=\u001b[39m(\u001b[38;5;241m3\u001b[39m, \u001b[38;5;241m2\u001b[39m, \u001b[38;5;241m4\u001b[39m), label\u001b[38;5;241m=\u001b[39m\u001b[38;5;124m\"\u001b[39m\u001b[38;5;124mItem gradient magnitude\u001b[39m\u001b[38;5;124m\"\u001b[39m, color\u001b[38;5;241m=\u001b[39m\u001b[38;5;124m\"\u001b[39m\u001b[38;5;124morange\u001b[39m\u001b[38;5;124m\"\u001b[39m)\n\u001b[0;32m     38\u001b[0m     plot_values(approx_densities, subplot\u001b[38;5;241m=\u001b[39m(\u001b[38;5;241m3\u001b[39m, \u001b[38;5;241m2\u001b[39m, \u001b[38;5;241m5\u001b[39m), label\u001b[38;5;241m=\u001b[39m\u001b[38;5;124m\"\u001b[39m\u001b[38;5;124mApprox. density\u001b[39m\u001b[38;5;124m\"\u001b[39m, color\u001b[38;5;241m=\u001b[39m\u001b[38;5;124m\"\u001b[39m\u001b[38;5;124mindigo\u001b[39m\u001b[38;5;124m\"\u001b[39m)\n\u001b[1;32m---> 39\u001b[0m     \u001b[43mplt\u001b[49m\u001b[38;5;241;43m.\u001b[39;49m\u001b[43mshow\u001b[49m\u001b[43m(\u001b[49m\u001b[43m)\u001b[49m\n\u001b[0;32m     41\u001b[0m \u001b[38;5;28;01mif\u001b[39;00m epoch \u001b[38;5;241m%\u001b[39m \u001b[38;5;241m10\u001b[39m \u001b[38;5;241m==\u001b[39m \u001b[38;5;241m0\u001b[39m:    \u001b[38;5;66;03m# was 10\u001b[39;00m\n\u001b[0;32m     42\u001b[0m     \u001b[38;5;66;03m# Calculating factorization error and factorization density\u001b[39;00m\n\u001b[0;32m     43\u001b[0m     temp_user_factor, temp_item_factor \u001b[38;5;241m=\u001b[39m model\u001b[38;5;241m.\u001b[39mget_factors()\n",
      "File \u001b[1;32m~\\AppData\\Local\\pypoetry\\Cache\\virtualenvs\\bmf-G3sRxObx-py3.10\\lib\\site-packages\\matplotlib\\pyplot.py:527\u001b[0m, in \u001b[0;36mshow\u001b[1;34m(*args, **kwargs)\u001b[0m\n\u001b[0;32m    483\u001b[0m \u001b[38;5;250m\u001b[39m\u001b[38;5;124;03m\"\"\"\u001b[39;00m\n\u001b[0;32m    484\u001b[0m \u001b[38;5;124;03mDisplay all open figures.\u001b[39;00m\n\u001b[0;32m    485\u001b[0m \n\u001b[1;32m   (...)\u001b[0m\n\u001b[0;32m    524\u001b[0m \u001b[38;5;124;03mexplicitly there.\u001b[39;00m\n\u001b[0;32m    525\u001b[0m \u001b[38;5;124;03m\"\"\"\u001b[39;00m\n\u001b[0;32m    526\u001b[0m _warn_if_gui_out_of_main_thread()\n\u001b[1;32m--> 527\u001b[0m \u001b[38;5;28;01mreturn\u001b[39;00m _get_backend_mod()\u001b[38;5;241m.\u001b[39mshow(\u001b[38;5;241m*\u001b[39margs, \u001b[38;5;241m*\u001b[39m\u001b[38;5;241m*\u001b[39mkwargs)\n",
      "File \u001b[1;32m~\\AppData\\Local\\pypoetry\\Cache\\virtualenvs\\bmf-G3sRxObx-py3.10\\lib\\site-packages\\matplotlib_inline\\backend_inline.py:90\u001b[0m, in \u001b[0;36mshow\u001b[1;34m(close, block)\u001b[0m\n\u001b[0;32m     88\u001b[0m \u001b[38;5;28;01mtry\u001b[39;00m:\n\u001b[0;32m     89\u001b[0m     \u001b[38;5;28;01mfor\u001b[39;00m figure_manager \u001b[38;5;129;01min\u001b[39;00m Gcf\u001b[38;5;241m.\u001b[39mget_all_fig_managers():\n\u001b[1;32m---> 90\u001b[0m         \u001b[43mdisplay\u001b[49m\u001b[43m(\u001b[49m\n\u001b[0;32m     91\u001b[0m \u001b[43m            \u001b[49m\u001b[43mfigure_manager\u001b[49m\u001b[38;5;241;43m.\u001b[39;49m\u001b[43mcanvas\u001b[49m\u001b[38;5;241;43m.\u001b[39;49m\u001b[43mfigure\u001b[49m\u001b[43m,\u001b[49m\n\u001b[0;32m     92\u001b[0m \u001b[43m            \u001b[49m\u001b[43mmetadata\u001b[49m\u001b[38;5;241;43m=\u001b[39;49m\u001b[43m_fetch_figure_metadata\u001b[49m\u001b[43m(\u001b[49m\u001b[43mfigure_manager\u001b[49m\u001b[38;5;241;43m.\u001b[39;49m\u001b[43mcanvas\u001b[49m\u001b[38;5;241;43m.\u001b[39;49m\u001b[43mfigure\u001b[49m\u001b[43m)\u001b[49m\n\u001b[0;32m     93\u001b[0m \u001b[43m        \u001b[49m\u001b[43m)\u001b[49m\n\u001b[0;32m     94\u001b[0m \u001b[38;5;28;01mfinally\u001b[39;00m:\n\u001b[0;32m     95\u001b[0m     show\u001b[38;5;241m.\u001b[39m_to_draw \u001b[38;5;241m=\u001b[39m []\n",
      "File \u001b[1;32m~\\AppData\\Local\\pypoetry\\Cache\\virtualenvs\\bmf-G3sRxObx-py3.10\\lib\\site-packages\\IPython\\core\\display_functions.py:298\u001b[0m, in \u001b[0;36mdisplay\u001b[1;34m(include, exclude, metadata, transient, display_id, raw, clear, *objs, **kwargs)\u001b[0m\n\u001b[0;32m    296\u001b[0m     publish_display_data(data\u001b[38;5;241m=\u001b[39mobj, metadata\u001b[38;5;241m=\u001b[39mmetadata, \u001b[38;5;241m*\u001b[39m\u001b[38;5;241m*\u001b[39mkwargs)\n\u001b[0;32m    297\u001b[0m \u001b[38;5;28;01melse\u001b[39;00m:\n\u001b[1;32m--> 298\u001b[0m     format_dict, md_dict \u001b[38;5;241m=\u001b[39m \u001b[38;5;28;43mformat\u001b[39;49m\u001b[43m(\u001b[49m\u001b[43mobj\u001b[49m\u001b[43m,\u001b[49m\u001b[43m \u001b[49m\u001b[43minclude\u001b[49m\u001b[38;5;241;43m=\u001b[39;49m\u001b[43minclude\u001b[49m\u001b[43m,\u001b[49m\u001b[43m \u001b[49m\u001b[43mexclude\u001b[49m\u001b[38;5;241;43m=\u001b[39;49m\u001b[43mexclude\u001b[49m\u001b[43m)\u001b[49m\n\u001b[0;32m    299\u001b[0m     \u001b[38;5;28;01mif\u001b[39;00m \u001b[38;5;129;01mnot\u001b[39;00m format_dict:\n\u001b[0;32m    300\u001b[0m         \u001b[38;5;66;03m# nothing to display (e.g. _ipython_display_ took over)\u001b[39;00m\n\u001b[0;32m    301\u001b[0m         \u001b[38;5;28;01mcontinue\u001b[39;00m\n",
      "File \u001b[1;32m~\\AppData\\Local\\pypoetry\\Cache\\virtualenvs\\bmf-G3sRxObx-py3.10\\lib\\site-packages\\IPython\\core\\formatters.py:179\u001b[0m, in \u001b[0;36mDisplayFormatter.format\u001b[1;34m(self, obj, include, exclude)\u001b[0m\n\u001b[0;32m    177\u001b[0m md \u001b[38;5;241m=\u001b[39m \u001b[38;5;28;01mNone\u001b[39;00m\n\u001b[0;32m    178\u001b[0m \u001b[38;5;28;01mtry\u001b[39;00m:\n\u001b[1;32m--> 179\u001b[0m     data \u001b[38;5;241m=\u001b[39m \u001b[43mformatter\u001b[49m\u001b[43m(\u001b[49m\u001b[43mobj\u001b[49m\u001b[43m)\u001b[49m\n\u001b[0;32m    180\u001b[0m \u001b[38;5;28;01mexcept\u001b[39;00m:\n\u001b[0;32m    181\u001b[0m     \u001b[38;5;66;03m# FIXME: log the exception\u001b[39;00m\n\u001b[0;32m    182\u001b[0m     \u001b[38;5;28;01mraise\u001b[39;00m\n",
      "File \u001b[1;32m~\\AppData\\Local\\pypoetry\\Cache\\virtualenvs\\bmf-G3sRxObx-py3.10\\lib\\site-packages\\decorator.py:232\u001b[0m, in \u001b[0;36mdecorate.<locals>.fun\u001b[1;34m(*args, **kw)\u001b[0m\n\u001b[0;32m    230\u001b[0m \u001b[38;5;28;01mif\u001b[39;00m \u001b[38;5;129;01mnot\u001b[39;00m kwsyntax:\n\u001b[0;32m    231\u001b[0m     args, kw \u001b[38;5;241m=\u001b[39m fix(args, kw, sig)\n\u001b[1;32m--> 232\u001b[0m \u001b[38;5;28;01mreturn\u001b[39;00m caller(func, \u001b[38;5;241m*\u001b[39m(extras \u001b[38;5;241m+\u001b[39m args), \u001b[38;5;241m*\u001b[39m\u001b[38;5;241m*\u001b[39mkw)\n",
      "File \u001b[1;32m~\\AppData\\Local\\pypoetry\\Cache\\virtualenvs\\bmf-G3sRxObx-py3.10\\lib\\site-packages\\IPython\\core\\formatters.py:223\u001b[0m, in \u001b[0;36mcatch_format_error\u001b[1;34m(method, self, *args, **kwargs)\u001b[0m\n\u001b[0;32m    221\u001b[0m \u001b[38;5;250m\u001b[39m\u001b[38;5;124;03m\"\"\"show traceback on failed format call\"\"\"\u001b[39;00m\n\u001b[0;32m    222\u001b[0m \u001b[38;5;28;01mtry\u001b[39;00m:\n\u001b[1;32m--> 223\u001b[0m     r \u001b[38;5;241m=\u001b[39m method(\u001b[38;5;28mself\u001b[39m, \u001b[38;5;241m*\u001b[39margs, \u001b[38;5;241m*\u001b[39m\u001b[38;5;241m*\u001b[39mkwargs)\n\u001b[0;32m    224\u001b[0m \u001b[38;5;28;01mexcept\u001b[39;00m \u001b[38;5;167;01mNotImplementedError\u001b[39;00m:\n\u001b[0;32m    225\u001b[0m     \u001b[38;5;66;03m# don't warn on NotImplementedErrors\u001b[39;00m\n\u001b[0;32m    226\u001b[0m     \u001b[38;5;28;01mreturn\u001b[39;00m \u001b[38;5;28mself\u001b[39m\u001b[38;5;241m.\u001b[39m_check_return(\u001b[38;5;28;01mNone\u001b[39;00m, args[\u001b[38;5;241m0\u001b[39m])\n",
      "File \u001b[1;32m~\\AppData\\Local\\pypoetry\\Cache\\virtualenvs\\bmf-G3sRxObx-py3.10\\lib\\site-packages\\IPython\\core\\formatters.py:340\u001b[0m, in \u001b[0;36mBaseFormatter.__call__\u001b[1;34m(self, obj)\u001b[0m\n\u001b[0;32m    338\u001b[0m     \u001b[38;5;28;01mpass\u001b[39;00m\n\u001b[0;32m    339\u001b[0m \u001b[38;5;28;01melse\u001b[39;00m:\n\u001b[1;32m--> 340\u001b[0m     \u001b[38;5;28;01mreturn\u001b[39;00m \u001b[43mprinter\u001b[49m\u001b[43m(\u001b[49m\u001b[43mobj\u001b[49m\u001b[43m)\u001b[49m\n\u001b[0;32m    341\u001b[0m \u001b[38;5;66;03m# Finally look for special method names\u001b[39;00m\n\u001b[0;32m    342\u001b[0m method \u001b[38;5;241m=\u001b[39m get_real_method(obj, \u001b[38;5;28mself\u001b[39m\u001b[38;5;241m.\u001b[39mprint_method)\n",
      "File \u001b[1;32m~\\AppData\\Local\\pypoetry\\Cache\\virtualenvs\\bmf-G3sRxObx-py3.10\\lib\\site-packages\\IPython\\core\\pylabtools.py:152\u001b[0m, in \u001b[0;36mprint_figure\u001b[1;34m(fig, fmt, bbox_inches, base64, **kwargs)\u001b[0m\n\u001b[0;32m    149\u001b[0m     \u001b[38;5;28;01mfrom\u001b[39;00m \u001b[38;5;21;01mmatplotlib\u001b[39;00m\u001b[38;5;21;01m.\u001b[39;00m\u001b[38;5;21;01mbackend_bases\u001b[39;00m \u001b[38;5;28;01mimport\u001b[39;00m FigureCanvasBase\n\u001b[0;32m    150\u001b[0m     FigureCanvasBase(fig)\n\u001b[1;32m--> 152\u001b[0m fig\u001b[38;5;241m.\u001b[39mcanvas\u001b[38;5;241m.\u001b[39mprint_figure(bytes_io, \u001b[38;5;241m*\u001b[39m\u001b[38;5;241m*\u001b[39mkw)\n\u001b[0;32m    153\u001b[0m data \u001b[38;5;241m=\u001b[39m bytes_io\u001b[38;5;241m.\u001b[39mgetvalue()\n\u001b[0;32m    154\u001b[0m \u001b[38;5;28;01mif\u001b[39;00m fmt \u001b[38;5;241m==\u001b[39m \u001b[38;5;124m'\u001b[39m\u001b[38;5;124msvg\u001b[39m\u001b[38;5;124m'\u001b[39m:\n",
      "File \u001b[1;32m~\\AppData\\Local\\pypoetry\\Cache\\virtualenvs\\bmf-G3sRxObx-py3.10\\lib\\site-packages\\matplotlib\\backend_bases.py:2164\u001b[0m, in \u001b[0;36mFigureCanvasBase.print_figure\u001b[1;34m(self, filename, dpi, facecolor, edgecolor, orientation, format, bbox_inches, pad_inches, bbox_extra_artists, backend, **kwargs)\u001b[0m\n\u001b[0;32m   2161\u001b[0m     \u001b[38;5;66;03m# we do this instead of `self.figure.draw_without_rendering`\u001b[39;00m\n\u001b[0;32m   2162\u001b[0m     \u001b[38;5;66;03m# so that we can inject the orientation\u001b[39;00m\n\u001b[0;32m   2163\u001b[0m     \u001b[38;5;28;01mwith\u001b[39;00m \u001b[38;5;28mgetattr\u001b[39m(renderer, \u001b[38;5;124m\"\u001b[39m\u001b[38;5;124m_draw_disabled\u001b[39m\u001b[38;5;124m\"\u001b[39m, nullcontext)():\n\u001b[1;32m-> 2164\u001b[0m         \u001b[38;5;28;43mself\u001b[39;49m\u001b[38;5;241;43m.\u001b[39;49m\u001b[43mfigure\u001b[49m\u001b[38;5;241;43m.\u001b[39;49m\u001b[43mdraw\u001b[49m\u001b[43m(\u001b[49m\u001b[43mrenderer\u001b[49m\u001b[43m)\u001b[49m\n\u001b[0;32m   2165\u001b[0m \u001b[38;5;28;01mif\u001b[39;00m bbox_inches:\n\u001b[0;32m   2166\u001b[0m     \u001b[38;5;28;01mif\u001b[39;00m bbox_inches \u001b[38;5;241m==\u001b[39m \u001b[38;5;124m\"\u001b[39m\u001b[38;5;124mtight\u001b[39m\u001b[38;5;124m\"\u001b[39m:\n",
      "File \u001b[1;32m~\\AppData\\Local\\pypoetry\\Cache\\virtualenvs\\bmf-G3sRxObx-py3.10\\lib\\site-packages\\matplotlib\\artist.py:95\u001b[0m, in \u001b[0;36m_finalize_rasterization.<locals>.draw_wrapper\u001b[1;34m(artist, renderer, *args, **kwargs)\u001b[0m\n\u001b[0;32m     93\u001b[0m \u001b[38;5;129m@wraps\u001b[39m(draw)\n\u001b[0;32m     94\u001b[0m \u001b[38;5;28;01mdef\u001b[39;00m \u001b[38;5;21mdraw_wrapper\u001b[39m(artist, renderer, \u001b[38;5;241m*\u001b[39margs, \u001b[38;5;241m*\u001b[39m\u001b[38;5;241m*\u001b[39mkwargs):\n\u001b[1;32m---> 95\u001b[0m     result \u001b[38;5;241m=\u001b[39m draw(artist, renderer, \u001b[38;5;241m*\u001b[39margs, \u001b[38;5;241m*\u001b[39m\u001b[38;5;241m*\u001b[39mkwargs)\n\u001b[0;32m     96\u001b[0m     \u001b[38;5;28;01mif\u001b[39;00m renderer\u001b[38;5;241m.\u001b[39m_rasterizing:\n\u001b[0;32m     97\u001b[0m         renderer\u001b[38;5;241m.\u001b[39mstop_rasterizing()\n",
      "File \u001b[1;32m~\\AppData\\Local\\pypoetry\\Cache\\virtualenvs\\bmf-G3sRxObx-py3.10\\lib\\site-packages\\matplotlib\\artist.py:72\u001b[0m, in \u001b[0;36mallow_rasterization.<locals>.draw_wrapper\u001b[1;34m(artist, renderer)\u001b[0m\n\u001b[0;32m     69\u001b[0m     \u001b[38;5;28;01mif\u001b[39;00m artist\u001b[38;5;241m.\u001b[39mget_agg_filter() \u001b[38;5;129;01mis\u001b[39;00m \u001b[38;5;129;01mnot\u001b[39;00m \u001b[38;5;28;01mNone\u001b[39;00m:\n\u001b[0;32m     70\u001b[0m         renderer\u001b[38;5;241m.\u001b[39mstart_filter()\n\u001b[1;32m---> 72\u001b[0m     \u001b[38;5;28;01mreturn\u001b[39;00m \u001b[43mdraw\u001b[49m\u001b[43m(\u001b[49m\u001b[43martist\u001b[49m\u001b[43m,\u001b[49m\u001b[43m \u001b[49m\u001b[43mrenderer\u001b[49m\u001b[43m)\u001b[49m\n\u001b[0;32m     73\u001b[0m \u001b[38;5;28;01mfinally\u001b[39;00m:\n\u001b[0;32m     74\u001b[0m     \u001b[38;5;28;01mif\u001b[39;00m artist\u001b[38;5;241m.\u001b[39mget_agg_filter() \u001b[38;5;129;01mis\u001b[39;00m \u001b[38;5;129;01mnot\u001b[39;00m \u001b[38;5;28;01mNone\u001b[39;00m:\n",
      "File \u001b[1;32m~\\AppData\\Local\\pypoetry\\Cache\\virtualenvs\\bmf-G3sRxObx-py3.10\\lib\\site-packages\\matplotlib\\figure.py:3153\u001b[0m, in \u001b[0;36mFigure.draw\u001b[1;34m(self, renderer)\u001b[0m\n\u001b[0;32m   3150\u001b[0m         \u001b[38;5;28;01mpass\u001b[39;00m\n\u001b[0;32m   3151\u001b[0m         \u001b[38;5;66;03m# ValueError can occur when resizing a window.\u001b[39;00m\n\u001b[1;32m-> 3153\u001b[0m \u001b[38;5;28;43mself\u001b[39;49m\u001b[38;5;241;43m.\u001b[39;49m\u001b[43mpatch\u001b[49m\u001b[38;5;241;43m.\u001b[39;49m\u001b[43mdraw\u001b[49m\u001b[43m(\u001b[49m\u001b[43mrenderer\u001b[49m\u001b[43m)\u001b[49m\n\u001b[0;32m   3154\u001b[0m mimage\u001b[38;5;241m.\u001b[39m_draw_list_compositing_images(\n\u001b[0;32m   3155\u001b[0m     renderer, \u001b[38;5;28mself\u001b[39m, artists, \u001b[38;5;28mself\u001b[39m\u001b[38;5;241m.\u001b[39msuppressComposite)\n\u001b[0;32m   3157\u001b[0m \u001b[38;5;28;01mfor\u001b[39;00m sfig \u001b[38;5;129;01min\u001b[39;00m \u001b[38;5;28mself\u001b[39m\u001b[38;5;241m.\u001b[39msubfigs:\n",
      "File \u001b[1;32m~\\AppData\\Local\\pypoetry\\Cache\\virtualenvs\\bmf-G3sRxObx-py3.10\\lib\\site-packages\\matplotlib\\artist.py:72\u001b[0m, in \u001b[0;36mallow_rasterization.<locals>.draw_wrapper\u001b[1;34m(artist, renderer)\u001b[0m\n\u001b[0;32m     69\u001b[0m     \u001b[38;5;28;01mif\u001b[39;00m artist\u001b[38;5;241m.\u001b[39mget_agg_filter() \u001b[38;5;129;01mis\u001b[39;00m \u001b[38;5;129;01mnot\u001b[39;00m \u001b[38;5;28;01mNone\u001b[39;00m:\n\u001b[0;32m     70\u001b[0m         renderer\u001b[38;5;241m.\u001b[39mstart_filter()\n\u001b[1;32m---> 72\u001b[0m     \u001b[38;5;28;01mreturn\u001b[39;00m \u001b[43mdraw\u001b[49m\u001b[43m(\u001b[49m\u001b[43martist\u001b[49m\u001b[43m,\u001b[49m\u001b[43m \u001b[49m\u001b[43mrenderer\u001b[49m\u001b[43m)\u001b[49m\n\u001b[0;32m     73\u001b[0m \u001b[38;5;28;01mfinally\u001b[39;00m:\n\u001b[0;32m     74\u001b[0m     \u001b[38;5;28;01mif\u001b[39;00m artist\u001b[38;5;241m.\u001b[39mget_agg_filter() \u001b[38;5;129;01mis\u001b[39;00m \u001b[38;5;129;01mnot\u001b[39;00m \u001b[38;5;28;01mNone\u001b[39;00m:\n",
      "File \u001b[1;32m~\\AppData\\Local\\pypoetry\\Cache\\virtualenvs\\bmf-G3sRxObx-py3.10\\lib\\site-packages\\matplotlib\\patches.py:587\u001b[0m, in \u001b[0;36mPatch.draw\u001b[1;34m(self, renderer)\u001b[0m\n\u001b[0;32m    585\u001b[0m transform \u001b[38;5;241m=\u001b[39m \u001b[38;5;28mself\u001b[39m\u001b[38;5;241m.\u001b[39mget_transform()\n\u001b[0;32m    586\u001b[0m tpath \u001b[38;5;241m=\u001b[39m transform\u001b[38;5;241m.\u001b[39mtransform_path_non_affine(path)\n\u001b[1;32m--> 587\u001b[0m affine \u001b[38;5;241m=\u001b[39m \u001b[43mtransform\u001b[49m\u001b[38;5;241;43m.\u001b[39;49m\u001b[43mget_affine\u001b[49m\u001b[43m(\u001b[49m\u001b[43m)\u001b[49m\n\u001b[0;32m    588\u001b[0m \u001b[38;5;28mself\u001b[39m\u001b[38;5;241m.\u001b[39m_draw_paths_with_artist_properties(\n\u001b[0;32m    589\u001b[0m     renderer,\n\u001b[0;32m    590\u001b[0m     [(tpath, affine,\n\u001b[1;32m   (...)\u001b[0m\n\u001b[0;32m    593\u001b[0m       \u001b[38;5;66;03m# transparent, but do if it is None.\u001b[39;00m\n\u001b[0;32m    594\u001b[0m       \u001b[38;5;28mself\u001b[39m\u001b[38;5;241m.\u001b[39m_facecolor \u001b[38;5;28;01mif\u001b[39;00m \u001b[38;5;28mself\u001b[39m\u001b[38;5;241m.\u001b[39m_facecolor[\u001b[38;5;241m3\u001b[39m] \u001b[38;5;28;01melse\u001b[39;00m \u001b[38;5;28;01mNone\u001b[39;00m)])\n",
      "File \u001b[1;32m~\\AppData\\Local\\pypoetry\\Cache\\virtualenvs\\bmf-G3sRxObx-py3.10\\lib\\site-packages\\matplotlib\\transforms.py:2436\u001b[0m, in \u001b[0;36mCompositeGenericTransform.get_affine\u001b[1;34m(self)\u001b[0m\n\u001b[0;32m   2434\u001b[0m     \u001b[38;5;28;01mreturn\u001b[39;00m \u001b[38;5;28mself\u001b[39m\u001b[38;5;241m.\u001b[39m_b\u001b[38;5;241m.\u001b[39mget_affine()\n\u001b[0;32m   2435\u001b[0m \u001b[38;5;28;01melse\u001b[39;00m:\n\u001b[1;32m-> 2436\u001b[0m     \u001b[38;5;28;01mreturn\u001b[39;00m \u001b[43mAffine2D\u001b[49m\u001b[43m(\u001b[49m\u001b[43mnp\u001b[49m\u001b[38;5;241;43m.\u001b[39;49m\u001b[43mdot\u001b[49m\u001b[43m(\u001b[49m\u001b[38;5;28;43mself\u001b[39;49m\u001b[38;5;241;43m.\u001b[39;49m\u001b[43m_b\u001b[49m\u001b[38;5;241;43m.\u001b[39;49m\u001b[43mget_affine\u001b[49m\u001b[43m(\u001b[49m\u001b[43m)\u001b[49m\u001b[38;5;241;43m.\u001b[39;49m\u001b[43mget_matrix\u001b[49m\u001b[43m(\u001b[49m\u001b[43m)\u001b[49m\u001b[43m,\u001b[49m\n\u001b[0;32m   2437\u001b[0m \u001b[43m                           \u001b[49m\u001b[38;5;28;43mself\u001b[39;49m\u001b[38;5;241;43m.\u001b[39;49m\u001b[43m_a\u001b[49m\u001b[38;5;241;43m.\u001b[39;49m\u001b[43mget_affine\u001b[49m\u001b[43m(\u001b[49m\u001b[43m)\u001b[49m\u001b[38;5;241;43m.\u001b[39;49m\u001b[43mget_matrix\u001b[49m\u001b[43m(\u001b[49m\u001b[43m)\u001b[49m\u001b[43m)\u001b[49m\u001b[43m)\u001b[49m\n",
      "File \u001b[1;32m~\\AppData\\Local\\pypoetry\\Cache\\virtualenvs\\bmf-G3sRxObx-py3.10\\lib\\site-packages\\matplotlib\\transforms.py:1903\u001b[0m, in \u001b[0;36mAffine2D.__init__\u001b[1;34m(self, matrix, **kwargs)\u001b[0m\n\u001b[0;32m   1900\u001b[0m \u001b[38;5;28;01mif\u001b[39;00m matrix \u001b[38;5;129;01mis\u001b[39;00m \u001b[38;5;28;01mNone\u001b[39;00m:\n\u001b[0;32m   1901\u001b[0m     \u001b[38;5;66;03m# A bit faster than np.identity(3).\u001b[39;00m\n\u001b[0;32m   1902\u001b[0m     matrix \u001b[38;5;241m=\u001b[39m IdentityTransform\u001b[38;5;241m.\u001b[39m_mtx\n\u001b[1;32m-> 1903\u001b[0m \u001b[38;5;28mself\u001b[39m\u001b[38;5;241m.\u001b[39m_mtx \u001b[38;5;241m=\u001b[39m \u001b[43mmatrix\u001b[49m\u001b[38;5;241;43m.\u001b[39;49m\u001b[43mcopy\u001b[49m\u001b[43m(\u001b[49m\u001b[43m)\u001b[49m\n\u001b[0;32m   1904\u001b[0m \u001b[38;5;28mself\u001b[39m\u001b[38;5;241m.\u001b[39m_invalid \u001b[38;5;241m=\u001b[39m \u001b[38;5;241m0\u001b[39m\n",
      "\u001b[1;31mKeyboardInterrupt\u001b[0m: "
     ]
    }
   ],
   "source": [
    "output = train_over_matrix(\n",
    "    matrix=matrix,\n",
    "    model=model,\n",
    "    criterion=criterion,\n",
    "    optimizer=optimizer,\n",
    "    batch_size=36, n_epochs=140,\n",
    "    draw_plots=True              \n",
    ")"
   ]
  },
  {
   "cell_type": "code",
   "execution_count": 10,
   "id": "2ce0a458-5236-4a91-b28d-c40daa236d33",
   "metadata": {},
   "outputs": [
    {
     "data": {
      "text/plain": [
       "(array([[1., 0., 0., 1.],\n",
       "        [1., 1., 0., 0.],\n",
       "        [1., 1., 0., 1.],\n",
       "        [1., 1., 0., 1.],\n",
       "        [1., 1., 1., 0.],\n",
       "        [1., 1., 0., 1.]], dtype=float32),\n",
       " array([[1., 1., 0., 1.],\n",
       "        [0., 0., 0., 1.],\n",
       "        [1., 1., 0., 1.],\n",
       "        [0., 0., 0., 1.],\n",
       "        [1., 1., 0., 1.],\n",
       "        [0., 1., 0., 1.]], dtype=float32))"
      ]
     },
     "execution_count": 10,
     "metadata": {},
     "output_type": "execute_result"
    }
   ],
   "source": [
    "model.get_factors()"
   ]
  },
  {
   "cell_type": "code",
   "execution_count": 12,
   "id": "56b1fe1e-2ae2-4fb4-b437-6e5cebd77606",
   "metadata": {},
   "outputs": [
    {
     "data": {
      "text/plain": [
       "tensor(5)"
      ]
     },
     "execution_count": 12,
     "metadata": {},
     "output_type": "execute_result"
    }
   ],
   "source": [
    "from torch.autograd import Variable\n",
    "\n",
    "Variable(torch.tensor(5))"
   ]
  },
  {
   "cell_type": "markdown",
   "id": "c4d12277-e818-4433-8b82-7c541018c76a",
   "metadata": {},
   "source": [
    "#### Pure NCF testing"
   ]
  },
  {
   "cell_type": "code",
   "execution_count": 49,
   "id": "8b9cf26e-8d2d-4148-80ff-7c4decb83740",
   "metadata": {},
   "outputs": [],
   "source": [
    "n_users = 6\n",
    "n_items = 6\n",
    "emb_size = 4\n",
    "matrix = utils.get_binary_tensor((n_users, n_items))\n",
    "# matrix = torch.eye(6, dtype=torch.int8)\n",
    "\n",
    "model = NeuralMatrixFactorization(\n",
    "    n_users=n_users,\n",
    "    n_items=n_items,\n",
    "    GMF_embedding_dim=emb_size,\n",
    "    MLP_embedding_dim=emb_size,\n",
    "    mlp_layers=[32, 32]\n",
    ")\n",
    "\n",
    "# criterion = nn.MSELoss()\n",
    "criterion = nn.BCELoss()\n",
    "optimizer = torch.optim.Adam(model.parameters())"
   ]
  },
  {
   "cell_type": "code",
   "execution_count": 50,
   "id": "e4d7cda4-a277-44b5-940c-f44a80dcc182",
   "metadata": {},
   "outputs": [
    {
     "data": {
      "image/png": "[encoded data removed]",
      "text/plain": [
       "<Figure size 1200x1100 with 5 Axes>"
      ]
     },
     "metadata": {},
     "output_type": "display_data"
    }
   ],
   "source": [
    "output = train_over_matrix(\n",
    "    matrix=matrix,\n",
    "    model=model,\n",
    "    criterion=criterion,\n",
    "    optimizer=optimizer,\n",
    "    batch_size=36, n_epochs=120,\n",
    "    draw_plots=True               # no dynamic plotting here\n",
    ")"
   ]
  },
  {
   "cell_type": "code",
   "execution_count": 40,
   "id": "bc7e5c55-e5a6-4e7c-bec9-a48e9ca259d2",
   "metadata": {},
   "outputs": [
    {
     "name": "stdout",
     "output_type": "stream",
     "text": [
      "None\n"
     ]
    }
   ],
   "source": [
    "print(list(model.parameters())[0].grad)"
   ]
  },
  {
   "cell_type": "markdown",
   "id": "bd7af5bc-f554-4570-9428-90a7ffbc17cf",
   "metadata": {},
   "source": [
    "#### Binarizer explorations"
   ]
  },
  {
   "cell_type": "code",
   "execution_count": 42,
   "id": "c5840a60-2408-4b29-b569-a734b3409acc",
   "metadata": {},
   "outputs": [],
   "source": [
    "class AdvancedInputBinarizer_(bm.BinarizerBase):\n",
    "    def __init__(self, derivative_funct=torch.tanh, t: int = 5):\n",
    "        super(AdvancedInputBinarizer_, self).__init__()\n",
    "        self.derivative_funct = derivative_funct\n",
    "        self.t = t\n",
    "\n",
    "    def forward(self, x: torch.tensor) -> torch.Tensor:\n",
    "        x = self.derivative_funct(x * self.t)\n",
    "        # with torch.no_grad():\n",
    "        #     x = torch.sign(x)\n",
    "        return x"
   ]
  },
  {
   "cell_type": "code",
   "execution_count": 47,
   "id": "77a26d02-eaf7-4e3b-80f3-90ac7cb862e8",
   "metadata": {},
   "outputs": [
    {
     "ename": "RuntimeError",
     "evalue": "grad can be implicitly created only for scalar outputs",
     "output_type": "error",
     "traceback": [
      "\u001b[1;31m---------------------------------------------------------------------------\u001b[0m",
      "\u001b[1;31mRuntimeError\u001b[0m                              Traceback (most recent call last)",
      "Cell \u001b[1;32mIn[47], line 5\u001b[0m\n\u001b[0;32m      2\u001b[0m t \u001b[38;5;241m=\u001b[39m torch\u001b[38;5;241m.\u001b[39mtensor([\u001b[38;5;241m1.2\u001b[39m, \u001b[38;5;241m1.3\u001b[39m, \u001b[38;5;241m0.1\u001b[39m, \u001b[38;5;241m-\u001b[39m\u001b[38;5;241m10\u001b[39m], requires_grad\u001b[38;5;241m=\u001b[39m\u001b[38;5;28;01mTrue\u001b[39;00m)\n\u001b[0;32m      4\u001b[0m res \u001b[38;5;241m=\u001b[39m ab(t)\n\u001b[1;32m----> 5\u001b[0m \u001b[43mres\u001b[49m\u001b[38;5;241;43m.\u001b[39;49m\u001b[43mbackward\u001b[49m\u001b[43m(\u001b[49m\u001b[43m)\u001b[49m\n",
      "File \u001b[1;32m~\\AppData\\Local\\pypoetry\\Cache\\virtualenvs\\bmf-G3sRxObx-py3.10\\lib\\site-packages\\torch\\_tensor.py:522\u001b[0m, in \u001b[0;36mTensor.backward\u001b[1;34m(self, gradient, retain_graph, create_graph, inputs)\u001b[0m\n\u001b[0;32m    512\u001b[0m \u001b[38;5;28;01mif\u001b[39;00m has_torch_function_unary(\u001b[38;5;28mself\u001b[39m):\n\u001b[0;32m    513\u001b[0m     \u001b[38;5;28;01mreturn\u001b[39;00m handle_torch_function(\n\u001b[0;32m    514\u001b[0m         Tensor\u001b[38;5;241m.\u001b[39mbackward,\n\u001b[0;32m    515\u001b[0m         (\u001b[38;5;28mself\u001b[39m,),\n\u001b[1;32m   (...)\u001b[0m\n\u001b[0;32m    520\u001b[0m         inputs\u001b[38;5;241m=\u001b[39minputs,\n\u001b[0;32m    521\u001b[0m     )\n\u001b[1;32m--> 522\u001b[0m \u001b[43mtorch\u001b[49m\u001b[38;5;241;43m.\u001b[39;49m\u001b[43mautograd\u001b[49m\u001b[38;5;241;43m.\u001b[39;49m\u001b[43mbackward\u001b[49m\u001b[43m(\u001b[49m\n\u001b[0;32m    523\u001b[0m \u001b[43m    \u001b[49m\u001b[38;5;28;43mself\u001b[39;49m\u001b[43m,\u001b[49m\u001b[43m \u001b[49m\u001b[43mgradient\u001b[49m\u001b[43m,\u001b[49m\u001b[43m \u001b[49m\u001b[43mretain_graph\u001b[49m\u001b[43m,\u001b[49m\u001b[43m \u001b[49m\u001b[43mcreate_graph\u001b[49m\u001b[43m,\u001b[49m\u001b[43m \u001b[49m\u001b[43minputs\u001b[49m\u001b[38;5;241;43m=\u001b[39;49m\u001b[43minputs\u001b[49m\n\u001b[0;32m    524\u001b[0m \u001b[43m\u001b[49m\u001b[43m)\u001b[49m\n",
      "File \u001b[1;32m~\\AppData\\Local\\pypoetry\\Cache\\virtualenvs\\bmf-G3sRxObx-py3.10\\lib\\site-packages\\torch\\autograd\\__init__.py:259\u001b[0m, in \u001b[0;36mbackward\u001b[1;34m(tensors, grad_tensors, retain_graph, create_graph, grad_variables, inputs)\u001b[0m\n\u001b[0;32m    250\u001b[0m inputs \u001b[38;5;241m=\u001b[39m (\n\u001b[0;32m    251\u001b[0m     (inputs,)\n\u001b[0;32m    252\u001b[0m     \u001b[38;5;28;01mif\u001b[39;00m \u001b[38;5;28misinstance\u001b[39m(inputs, (torch\u001b[38;5;241m.\u001b[39mTensor, graph\u001b[38;5;241m.\u001b[39mGradientEdge))\n\u001b[1;32m   (...)\u001b[0m\n\u001b[0;32m    255\u001b[0m     \u001b[38;5;28;01melse\u001b[39;00m \u001b[38;5;28mtuple\u001b[39m()\n\u001b[0;32m    256\u001b[0m )\n\u001b[0;32m    258\u001b[0m grad_tensors_ \u001b[38;5;241m=\u001b[39m _tensor_or_tensors_to_tuple(grad_tensors, \u001b[38;5;28mlen\u001b[39m(tensors))\n\u001b[1;32m--> 259\u001b[0m grad_tensors_ \u001b[38;5;241m=\u001b[39m \u001b[43m_make_grads\u001b[49m\u001b[43m(\u001b[49m\u001b[43mtensors\u001b[49m\u001b[43m,\u001b[49m\u001b[43m \u001b[49m\u001b[43mgrad_tensors_\u001b[49m\u001b[43m,\u001b[49m\u001b[43m \u001b[49m\u001b[43mis_grads_batched\u001b[49m\u001b[38;5;241;43m=\u001b[39;49m\u001b[38;5;28;43;01mFalse\u001b[39;49;00m\u001b[43m)\u001b[49m\n\u001b[0;32m    260\u001b[0m \u001b[38;5;28;01mif\u001b[39;00m retain_graph \u001b[38;5;129;01mis\u001b[39;00m \u001b[38;5;28;01mNone\u001b[39;00m:\n\u001b[0;32m    261\u001b[0m     retain_graph \u001b[38;5;241m=\u001b[39m create_graph\n",
      "File \u001b[1;32m~\\AppData\\Local\\pypoetry\\Cache\\virtualenvs\\bmf-G3sRxObx-py3.10\\lib\\site-packages\\torch\\autograd\\__init__.py:132\u001b[0m, in \u001b[0;36m_make_grads\u001b[1;34m(outputs, grads, is_grads_batched)\u001b[0m\n\u001b[0;32m    130\u001b[0m \u001b[38;5;28;01mif\u001b[39;00m out\u001b[38;5;241m.\u001b[39mrequires_grad:\n\u001b[0;32m    131\u001b[0m     \u001b[38;5;28;01mif\u001b[39;00m out\u001b[38;5;241m.\u001b[39mnumel() \u001b[38;5;241m!=\u001b[39m \u001b[38;5;241m1\u001b[39m:\n\u001b[1;32m--> 132\u001b[0m         \u001b[38;5;28;01mraise\u001b[39;00m \u001b[38;5;167;01mRuntimeError\u001b[39;00m(\n\u001b[0;32m    133\u001b[0m             \u001b[38;5;124m\"\u001b[39m\u001b[38;5;124mgrad can be implicitly created only for scalar outputs\u001b[39m\u001b[38;5;124m\"\u001b[39m\n\u001b[0;32m    134\u001b[0m         )\n\u001b[0;32m    135\u001b[0m     \u001b[38;5;28;01mif\u001b[39;00m \u001b[38;5;129;01mnot\u001b[39;00m out\u001b[38;5;241m.\u001b[39mdtype\u001b[38;5;241m.\u001b[39mis_floating_point:\n\u001b[0;32m    136\u001b[0m         msg \u001b[38;5;241m=\u001b[39m (\n\u001b[0;32m    137\u001b[0m             \u001b[38;5;124m\"\u001b[39m\u001b[38;5;124mgrad can be implicitly created only for real scalar outputs\u001b[39m\u001b[38;5;124m\"\u001b[39m\n\u001b[0;32m    138\u001b[0m             \u001b[38;5;124mf\u001b[39m\u001b[38;5;124m\"\u001b[39m\u001b[38;5;124m but got \u001b[39m\u001b[38;5;132;01m{\u001b[39;00mout\u001b[38;5;241m.\u001b[39mdtype\u001b[38;5;132;01m}\u001b[39;00m\u001b[38;5;124m\"\u001b[39m\n\u001b[0;32m    139\u001b[0m         )\n",
      "\u001b[1;31mRuntimeError\u001b[0m: grad can be implicitly created only for scalar outputs"
     ]
    }
   ],
   "source": [
    "ab = AdvancedInputBinarizer_()\n",
    "t = torch.tensor([1.2, 1.3, 0.1, -10], requires_grad=True)\n",
    "\n",
    "res = ab(t)\n",
    "res.backward()"
   ]
  },
  {
   "cell_type": "code",
   "execution_count": null,
   "id": "95041715-48b1-40b3-8936-9eee4a17e46e",
   "metadata": {},
   "outputs": [],
   "source": []
  }
 ],
 "metadata": {
  "kernelspec": {
   "display_name": "Python 3 (ipykernel)",
   "language": "python",
   "name": "python3"
  },
  "language_info": {
   "codemirror_mode": {
    "name": "ipython",
    "version": 3
   },
   "file_extension": ".py",
   "mimetype": "text/x-python",
   "name": "python",
   "nbconvert_exporter": "python",
   "pygments_lexer": "ipython3",
   "version": "3.10.0"
  }
 },
 "nbformat": 4,
 "nbformat_minor": 5
}
