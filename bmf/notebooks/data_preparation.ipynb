{
 "cells": [
  {
   "cell_type": "code",
   "execution_count": 1,
   "id": "0fc6511e-abe7-487e-82b8-5ad66090973c",
   "metadata": {},
   "outputs": [],
   "source": [
    "import sys\n",
    "\n",
    "sys.path.append(\"../\")"
   ]
  },
  {
   "cell_type": "code",
   "execution_count": 2,
   "id": "3dff9fd5-a2c2-4fb5-8a8b-c31ef4497d6e",
   "metadata": {},
   "outputs": [],
   "source": [
    "import os\n",
    "\n",
    "try:\n",
    "    from urllib.request import urlretrieve\n",
    "except ImportError:\n",
    "    from urllib import urlretrieve\n",
    "\n",
    "from tqdm.auto import tqdm"
   ]
  },
  {
   "cell_type": "code",
   "execution_count": 3,
   "id": "f58b91d9-5d00-4328-a75a-826a01e52db4",
   "metadata": {},
   "outputs": [],
   "source": [
    "import h5py\n",
    "import numpy as np\n",
    "from scipy.sparse import coo_matrix, csr_matrix"
   ]
  },
  {
   "cell_type": "markdown",
   "id": "19912c7e-6ef4-4e96-9d4b-c0daebb50f5d",
   "metadata": {},
   "source": [
    "#### Loading data stored in HDF5 format"
   ]
  },
  {
   "cell_type": "code",
   "execution_count": 4,
   "id": "370f6125-d640-468c-9e04-136f7529162b",
   "metadata": {},
   "outputs": [],
   "source": [
    "URL_BASE = \"https://github.com/benfred/recommender_data/releases/download/v1.0/\"\n",
    "LOCAL_CACHE_DIR = os.path.join(\"../\", \"data\")"
   ]
  },
  {
   "cell_type": "code",
   "execution_count": 6,
   "id": "fadac5e3-ad03-4212-af8a-746336ebaf61",
   "metadata": {},
   "outputs": [],
   "source": [
    "def download_file(url, local_filename):\n",
    "    \"\"\"Simple wrapper around urlretrieve that uses tqdm to display a progress\n",
    "    bar of download progress\"\"\"\n",
    "    \n",
    "    local_filename = os.path.abspath(local_filename)\n",
    "    path = os.path.dirname(local_filename)\n",
    "    if not os.path.isdir(path):\n",
    "        os.makedirs(path)\n",
    "\n",
    "    with tqdm(unit=\"B\", unit_scale=True) as progress:\n",
    "\n",
    "        def report(chunk, chunksize, total):\n",
    "            progress.total = total\n",
    "            progress.update(chunksize)\n",
    "\n",
    "        return urlretrieve(url, local_filename, reporthook=report)"
   ]
  },
  {
   "cell_type": "code",
   "execution_count": 11,
   "id": "53b86ab0-ccbf-49f0-962f-2f22a165a104",
   "metadata": {},
   "outputs": [],
   "source": [
    "def get_movielens(variant=\"20m\"):\n",
    "    \"\"\"Gets movielens datasets\n",
    "\n",
    "    Parameters\n",
    "    ---------\n",
    "    variant : string\n",
    "        Which version of the movielens dataset to download. Should be one of '20m', '10m',\n",
    "        '1m' or '100k'.\n",
    "\n",
    "    Returns\n",
    "    -------\n",
    "    movies : ndarray\n",
    "        An array of the movie titles.\n",
    "    ratings : csr_matrix\n",
    "        A sparse matrix where the row is the movieId, the column is the userId and the value is\n",
    "        the rating.\n",
    "    \"\"\"\n",
    "    filename = f\"movielens_{variant}.hdf5\"\n",
    "\n",
    "    path = os.path.join(LOCAL_CACHE_DIR, filename)\n",
    "    if not os.path.isfile(path):\n",
    "        print(f\"Downloading dataset to {path}\")\n",
    "        download_file(URL_BASE + filename, path)\n",
    "    else:\n",
    "        print(f\"Using cached dataset at {path}\")\n",
    "\n",
    "    with h5py.File(path, \"r\") as f:\n",
    "        m = f.get(\"movie_user_ratings\")\n",
    "        plays = csr_matrix((m.get(\"data\"), m.get(\"indices\"), m.get(\"indptr\")))\n",
    "        return np.array(f[\"movie\"].asstr()[:]), plays"
   ]
  },
  {
   "cell_type": "code",
   "execution_count": 12,
   "id": "5f0f46ab-a89d-471c-80ca-8769cfcba200",
   "metadata": {},
   "outputs": [
    {
     "name": "stdout",
     "output_type": "stream",
     "text": [
      "Using cached dataset at ../data\\movielens_20m.hdf5\n"
     ]
    }
   ],
   "source": [
    "ml_20 = get_movielens(variant=\"20m\")"
   ]
  },
  {
   "cell_type": "code",
   "execution_count": 13,
   "id": "6ceb6d05-aeaf-491c-8eed-7311b2a9e238",
   "metadata": {},
   "outputs": [
    {
     "name": "stdout",
     "output_type": "stream",
     "text": [
      "(array(['', 'Toy Story (1995)', 'Jumanji (1995)', ...,\n",
      "       'Rentun Ruusu (2001)', '', 'Innocence (2014)'], dtype=object), <131263x138494 sparse matrix of type '<class 'numpy.float32'>'\n",
      "\twith 20000263 stored elements in Compressed Sparse Row format>)\n"
     ]
    }
   ],
   "source": [
    "print(ml_20)"
   ]
  },
  {
   "cell_type": "markdown",
   "id": "b2c2e14d-b5e5-46ca-a995-e5d74380c84e",
   "metadata": {},
   "source": [
    "#### Exploring movielens in CSR format"
   ]
  },
  {
   "cell_type": "code",
   "execution_count": 15,
   "id": "72561789-55da-4fbe-85e1-fb29ed2c8e8c",
   "metadata": {},
   "outputs": [
    {
     "name": "stdout",
     "output_type": "stream",
     "text": [
      "Number of stored non-zero elements: 20000263\n",
      "Stored data: [4.  5.  4.  ... 2.5 3.  4. ] (of lenght 20000263)\n",
      "Сolumn indices of stored elements: [     3      6      8 ...  28906  65409 133047]\n",
      "Cumulative counter of non-zero elements over rows: [       0        0    49695 ... 20000262 20000262 20000263]\n"
     ]
    }
   ],
   "source": [
    "ratings = ml_20[1]\n",
    "\n",
    "print(f\"Number of stored non-zero elements: {ratings.size}\")\n",
    "print(f\"Stored data: {ratings.data} (of lenght {len(ratings.data)})\")\n",
    "print(f\"Сolumn indices of stored elements: {ratings.indices}\")\n",
    "print(f\"Cumulative counter of non-zero elements over rows: {ratings.indptr}\")"
   ]
  },
  {
   "cell_type": "code",
   "execution_count": 24,
   "id": "72be3281-b7bd-4c70-898e-a2088e2c300e",
   "metadata": {},
   "outputs": [
    {
     "name": "stdout",
     "output_type": "stream",
     "text": [
      "Size: 13\n"
     ]
    },
    {
     "data": {
      "text/plain": [
       "array([[0. , 0. , 0. , 0. , 0. , 0. , 0. , 0. , 0. , 0. ],\n",
       "       [0. , 0. , 0. , 4. , 0. , 0. , 5. , 0. , 4. , 0. ],\n",
       "       [0. , 3.5, 0. , 0. , 0. , 3. , 0. , 0. , 0. , 0. ],\n",
       "       [0. , 0. , 4. , 0. , 0. , 0. , 3. , 3. , 5. , 0. ],\n",
       "       [0. , 0. , 0. , 0. , 0. , 0. , 0. , 0. , 0. , 0. ],\n",
       "       [0. , 0. , 0. , 0. , 0. , 0. , 0. , 0. , 0. , 0. ],\n",
       "       [0. , 0. , 0. , 0. , 3. , 0. , 0. , 0. , 3. , 0. ],\n",
       "       [0. , 0. , 0. , 0. , 0. , 0. , 5. , 3. , 0. , 0. ],\n",
       "       [0. , 0. , 0. , 0. , 0. , 0. , 0. , 0. , 0. , 0. ],\n",
       "       [0. , 0. , 0. , 0. , 0. , 0. , 0. , 0. , 0. , 0. ]], dtype=float32)"
      ]
     },
     "execution_count": 24,
     "metadata": {},
     "output_type": "execute_result"
    }
   ],
   "source": [
    "# Slicing, casting to numpy\n",
    "\n",
    "ratings_s = ratings[:10, :10]\n",
    "print(f\"Size: {ratings_s.size}\")\n",
    "ratings_s.toarray()             # .todense() -> same, but returns np.matrix"
   ]
  },
  {
   "cell_type": "code",
   "execution_count": 30,
   "id": "36da3bd5-dde1-45e8-9759-b52b9152efe4",
   "metadata": {},
   "outputs": [
    {
     "name": "stdout",
     "output_type": "stream",
     "text": [
      "\n",
      "  (0, 3)\t4.0\n",
      "  (0, 6)\t5.0\n",
      "  (0, 8)\t4.0\n",
      "  (0, 1)\t3.5\n",
      "  (0, 5)\t3.0\n",
      "  (0, 2)\t4.0\n",
      "  (0, 6)\t3.0\n",
      "  (0, 7)\t3.0\n",
      "  (0, 8)\t5.0\n",
      "\n",
      "\n",
      "  (0, 4)\t3.0\n",
      "  (0, 8)\t3.0\n",
      "  (0, 6)\t5.0\n",
      "  (0, 7)\t3.0\n",
      "\n",
      "\n"
     ]
    }
   ],
   "source": [
    "# Iterating (unclear)  -> seems to iterate regardless of rows \n",
    "\n",
    "for el in ratings_s: print(el)"
   ]
  },
  {
   "cell_type": "code",
   "execution_count": 34,
   "id": "4df6c9d8-c0a1-46bc-ab45-a892a28198ba",
   "metadata": {},
   "outputs": [],
   "source": [
    "# Iterating (more clear way)\n",
    "\n",
    "from itertools import chain, repeat\n",
    "\n",
    "\n",
    "def iter_csr(matrix):\n",
    "  for (row, col, val) in zip(\n",
    "    chain(*(repeat(i, r) for (i,r) in enumerate(matrix.indptr[1:] - matrix.indptr[:-1]))),\n",
    "    matrix.indices,\n",
    "    matrix.data\n",
    "  ):\n",
    "    yield (row, col, val)"
   ]
  },
  {
   "cell_type": "code",
   "execution_count": 35,
   "id": "091abfbc-fe23-4874-97e3-8b60a1ce8ea7",
   "metadata": {},
   "outputs": [
    {
     "name": "stdout",
     "output_type": "stream",
     "text": [
      "(1, 3, 4.0)\n",
      "(1, 6, 5.0)\n",
      "(1, 8, 4.0)\n",
      "(2, 1, 3.5)\n",
      "(2, 5, 3.0)\n",
      "(3, 2, 4.0)\n",
      "(3, 6, 3.0)\n",
      "(3, 7, 3.0)\n",
      "(3, 8, 5.0)\n",
      "(6, 4, 3.0)\n",
      "(6, 8, 3.0)\n",
      "(7, 6, 5.0)\n",
      "(7, 7, 3.0)\n"
     ]
    }
   ],
   "source": [
    "for el in iter_csr(ratings_s): print(el)"
   ]
  },
  {
   "cell_type": "code",
   "execution_count": 39,
   "id": "ec3ddfd3-65c3-4927-95bf-b77dcf190917",
   "metadata": {},
   "outputs": [
    {
     "data": {
      "text/plain": [
       "array([[0, 0, 0, 0, 0, 0, 0, 0, 0, 0],\n",
       "       [0, 0, 0, 1, 0, 0, 1, 0, 1, 0],\n",
       "       [0, 1, 0, 0, 0, 0, 0, 0, 0, 0],\n",
       "       [0, 0, 1, 0, 0, 0, 0, 0, 1, 0],\n",
       "       [0, 0, 0, 0, 0, 0, 0, 0, 0, 0],\n",
       "       [0, 0, 0, 0, 0, 0, 0, 0, 0, 0],\n",
       "       [0, 0, 0, 0, 0, 0, 0, 0, 0, 0],\n",
       "       [0, 0, 0, 0, 0, 0, 1, 0, 0, 0],\n",
       "       [0, 0, 0, 0, 0, 0, 0, 0, 0, 0],\n",
       "       [0, 0, 0, 0, 0, 0, 0, 0, 0, 0]])"
      ]
     },
     "execution_count": 39,
     "metadata": {},
     "output_type": "execute_result"
    }
   ],
   "source": [
    "# Binarizing\n",
    "\n",
    "(ratings_s > 3).astype(int).toarray()"
   ]
  },
  {
   "cell_type": "code",
   "execution_count": null,
   "id": "9bb67093-a37d-4858-acaa-e2d13a9a3480",
   "metadata": {},
   "outputs": [],
   "source": []
  }
 ],
 "metadata": {
  "kernelspec": {
   "display_name": "Python 3 (ipykernel)",
   "language": "python",
   "name": "python3"
  },
  "language_info": {
   "codemirror_mode": {
    "name": "ipython",
    "version": 3
   },
   "file_extension": ".py",
   "mimetype": "text/x-python",
   "name": "python",
   "nbconvert_exporter": "python",
   "pygments_lexer": "ipython3",
   "version": "3.10.0"
  }
 },
 "nbformat": 4,
 "nbformat_minor": 5
}
